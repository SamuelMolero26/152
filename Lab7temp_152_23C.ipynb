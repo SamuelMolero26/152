{
 "cells": [
  {
   "cell_type": "markdown",
   "id": "20c00fa5",
   "metadata": {},
   "source": [
    "## MATH 152 Lab 7"
   ]
  },
  {
   "cell_type": "markdown",
   "id": "7c243ef1",
   "metadata": {},
   "source": [
    "Put team members' names and section number here."
   ]
  },
  {
   "cell_type": "code",
   "execution_count": 9,
   "id": "cf836732",
   "metadata": {},
   "outputs": [],
   "source": [
    "import sympy as sp\n",
    "from sympy.plotting import (plot,plot_parametric)\n",
    "import matplotlib.pyplot as plt\n",
    "import numpy as np"
   ]
  },
  {
   "cell_type": "markdown",
   "id": "3169990f",
   "metadata": {},
   "source": [
    "### Question 1"
   ]
  },
  {
   "cell_type": "markdown",
   "id": "f0561a86",
   "metadata": {},
   "source": [
    "#### 1a"
   ]
  },
  {
   "cell_type": "code",
   "execution_count": 10,
   "id": "cbfab3f6",
   "metadata": {},
   "outputs": [
    {
     "data": {
      "text/latex": [
       "$\\displaystyle \\left(\\frac{7}{8}\\right)^{n}$"
      ],
      "text/plain": [
       "(7/8)**n"
      ]
     },
     "metadata": {},
     "output_type": "display_data"
    },
    {
     "name": "stdout",
     "output_type": "stream",
     "text": [
      "As n ----> oo, the limit of (7/8)**n is : 0\n"
     ]
    }
   ],
   "source": [
    "n = sp.symbols('n', real = True, positive = True)\n",
    "an = sp.Rational(7/8)**n\n",
    "display(an)\n",
    "limit_an = sp.limit(an,n,sp.oo)\n",
    "print(f\"As n ----> oo, the limit of {an} is : {limit_an}\")"
   ]
  },
  {
   "cell_type": "markdown",
   "id": "efdd616f",
   "metadata": {},
   "source": [
    "#### 1b "
   ]
  },
  {
   "cell_type": "code",
   "execution_count": 33,
   "id": "86b0cc24",
   "metadata": {},
   "outputs": [],
   "source": [
    "matplotlib inline"
   ]
  },
  {
   "cell_type": "code",
   "execution_count": 50,
   "id": "898de08d",
   "metadata": {},
   "outputs": [
    {
     "data": {
      "text/plain": [
       "[<matplotlib.lines.Line2D at 0x7fde34cc4bb0>,\n",
       " <matplotlib.lines.Line2D at 0x7fde34cc4ac0>]"
      ]
     },
     "execution_count": 50,
     "metadata": {},
     "output_type": "execute_result"
    },
    {
     "data": {
      "image/png": "[encoded data removed]",
      "text/plain": [
       "<Figure size 640x480 with 1 Axes>"
      ]
     },
     "metadata": {},
     "output_type": "display_data"
    }
   ],
   "source": [
    "nvals = range(0,51)\n",
    "an_50 = [sp.Abs(an.subs(n,i)) for i in nvals]\n",
    "an = sp.Rational(7/8)**(n+1)\n",
    "an_partial = [np.cumsum(an.subs(n,i)) for i in nvals]\n",
    "plt.plot(nvals, an_50,'ro', nvals, an_partial,'bo')"
   ]
  },
  {
   "cell_type": "markdown",
   "id": "9e7d2cbd",
   "metadata": {},
   "source": [
    "#### 1c"
   ]
  },
  {
   "cell_type": "code",
   "execution_count": 59,
   "id": "de024572",
   "metadata": {},
   "outputs": [
    {
     "name": "stdout",
     "output_type": "stream",
     "text": [
      "Exact sum: 0.008820652058412898\n",
      "Approximate sum: 56.99117934794159\n"
     ]
    }
   ],
   "source": [
    "S_exact = ((7/8)**51) / (1 - 7/8)\n",
    "print(\"Exact sum:\", S_exact)\n",
    "\n",
    "n = 1\n",
    "S_approx = (7/8)**n + 1\n",
    "while n < 50:\n",
    "    n += 1\n",
    "    S_approx += (7/8)**n + 1\n",
    "print(\"Approximate sum:\", S_approx)\n",
    "\n",
    "\n"
   ]
  },
  {
   "cell_type": "markdown",
   "id": "8b00f000",
   "metadata": {},
   "source": [
    "### Question 2 "
   ]
  },
  {
   "cell_type": "markdown",
   "id": "ccffd0d0",
   "metadata": {},
   "source": [
    "#### 2a"
   ]
  },
  {
   "cell_type": "code",
   "execution_count": 13,
   "id": "ca0d9bbc",
   "metadata": {},
   "outputs": [
    {
     "data": {
      "text/latex": [
       "$\\displaystyle \\frac{5}{e}$"
      ],
      "text/plain": [
       "5*exp(-1)"
      ]
     },
     "metadata": {},
     "output_type": "display_data"
    }
   ],
   "source": [
    "x = sp.symbols('x', real = True, positive = True)\n",
    "f_x = (x**2)*(sp.E**-x)\n",
    "f_integral = sp.integrate(f_x,(x,1,sp.oo))\n",
    "display(f_integral)\n"
   ]
  },
  {
   "cell_type": "markdown",
   "id": "baa2be1a",
   "metadata": {},
   "source": [
    "#### 2b"
   ]
  },
  {
   "cell_type": "code",
   "execution_count": 14,
   "id": "92832935",
   "metadata": {},
   "outputs": [
    {
     "name": "stdout",
     "output_type": "stream",
     "text": [
      "Based om the result the function is convergence\n"
     ]
    }
   ],
   "source": [
    "print('Based om the result the function is convergence')"
   ]
  },
  {
   "cell_type": "markdown",
   "id": "3dcc5f6d",
   "metadata": {},
   "source": [
    "#### 2c"
   ]
  },
  {
   "cell_type": "code",
   "execution_count": 15,
   "id": "67d0a563",
   "metadata": {},
   "outputs": [
    {
     "name": "stdout",
     "output_type": "stream",
     "text": [
      "S(10) = 1.61630674244305\n",
      "S(50) = 1.62441532595354\n",
      "S(100) = 1.62441532595354\n",
      "S = 1.62441532595354\n"
     ]
    }
   ],
   "source": [
    "from mpmath import nsum, inf\n",
    "s10 =[f_x.subs({x:i}) for i in range(2,10)]\n",
    "print(f'S(10) = {sum(s10).evalf()}')\n",
    "S50 = [f_x.subs({x:i}) for i in range(2,50)]\n",
    "print(f'S(50) = {sum(S50).evalf()}')\n",
    "S100 = [f_x.subs({x:i}) for i in range(2,100)]\n",
    "Sum_100 = sum(S100).evalf()\n",
    "print(f'S(100) = {Sum_100}')\n",
    "\n",
    "S = nsum(lambda x: (x**2)*(sp.E**-x),[2,inf])\n",
    "print(f'S = {S}')"
   ]
  },
  {
   "cell_type": "markdown",
   "id": "65d0297c",
   "metadata": {},
   "source": [
    "#### 2d"
   ]
  },
  {
   "cell_type": "code",
   "execution_count": 16,
   "id": "685a3143",
   "metadata": {},
   "outputs": [
    {
     "name": "stdout",
     "output_type": "stream",
     "text": [
      "The difference between S ad S(100) is  0.0\n"
     ]
    }
   ],
   "source": [
    "print('The difference between S ad S(100) is ', abs(S-Sum_100))"
   ]
  },
  {
   "cell_type": "markdown",
   "id": "e65c64dd",
   "metadata": {},
   "source": [
    "#### 2e"
   ]
  },
  {
   "cell_type": "code",
   "execution_count": 23,
   "id": "f0840f85",
   "metadata": {},
   "outputs": [
    {
     "data": {
      "text/latex": [
       "$\\displaystyle \\left(N + 1\\right)^{2} e^{- N - 1}$"
      ],
      "text/plain": [
       "(N + 1)**2*exp(-N - 1)"
      ]
     },
     "metadata": {},
     "output_type": "display_data"
    },
    {
     "name": "stdout",
     "output_type": "stream",
     "text": [
      "The minimum numbers of N is 28.8159370304108 so 29 terms are needed\n"
     ]
    }
   ],
   "source": [
    "x, n, N = sp.symbols('x n N', real = True , positive=True)\n",
    "f_x = (x**2)*(sp.E**-x)\n",
    "an = (n**2)*(sp.E**-n)\n",
    "\n",
    "Interror = sp.Abs(an).subs(n,N+1)\n",
    "#display(Interror)\n",
    "# Interror = sp.integrate(f_x,(x,N,inf))\n",
    "error = Interror - 10**-10\n",
    "Nmin = sp.solve(error,N)\n",
    "print('The minimum numbers of N is', Nmin[0], 'so 29 terms are needed')\n",
    "\n"
   ]
  },
  {
   "cell_type": "markdown",
   "id": "7e20a1d3",
   "metadata": {},
   "source": [
    "### Question 3"
   ]
  },
  {
   "cell_type": "markdown",
   "id": "f695ae23",
   "metadata": {},
   "source": [
    "#### 3a"
   ]
  },
  {
   "cell_type": "code",
   "execution_count": 24,
   "id": "41756879",
   "metadata": {},
   "outputs": [
    {
     "data": {
      "text/latex": [
       "$\\displaystyle \\frac{5}{3 n^{2}}$"
      ],
      "text/plain": [
       "5/(3*n**2)"
      ]
     },
     "metadata": {},
     "output_type": "display_data"
    }
   ],
   "source": [
    "an = ((5*n**2) - 1) / (3*n**4 + 5*n + 1)\n",
    "bn = 5 / (3*n**2)\n",
    "display(bn)"
   ]
  },
  {
   "cell_type": "markdown",
   "id": "35d20561",
   "metadata": {},
   "source": [
    "#### 3b"
   ]
  },
  {
   "cell_type": "code",
   "execution_count": 27,
   "id": "45676a9e",
   "metadata": {},
   "outputs": [],
   "source": [
    "matplotlib inline"
   ]
  },
  {
   "cell_type": "code",
   "execution_count": 28,
   "id": "21ea705e",
   "metadata": {},
   "outputs": [
    {
     "data": {
      "text/plain": [
       "[<matplotlib.lines.Line2D at 0x7fde37a9b760>,\n",
       " <matplotlib.lines.Line2D at 0x7fde37a9b790>]"
      ]
     },
     "execution_count": 28,
     "metadata": {},
     "output_type": "execute_result"
    },
    {
     "data": {
      "image/png": "[encoded data removed]",
      "text/plain": [
       "<Figure size 640x480 with 1 Axes>"
      ]
     },
     "metadata": {},
     "output_type": "display_data"
    }
   ],
   "source": [
    "an_50 = [sp.Abs(an.subs({n:i})) for i in range(1,51)]\n",
    "bn_50 = [sp.Abs(bn.subs({n:i})) for i in range(1,51)]\n",
    "plt.plot(range(1,51), an_50,'ro',range(1,51), bn_50,'bo')"
   ]
  },
  {
   "cell_type": "markdown",
   "id": "e256ce52",
   "metadata": {},
   "source": [
    "#### 3c"
   ]
  },
  {
   "cell_type": "code",
   "execution_count": null,
   "id": "e46dcf48",
   "metadata": {},
   "outputs": [
    {
     "name": "stdout",
     "output_type": "stream",
     "text": [
      "Since the limit of bn is {bn_lim} the series converges and \n",
      " thus an will also converge, since bn is greater than an as per the comparison test \n"
     ]
    }
   ],
   "source": [
    "bn_lim = sp.limit(bn,n,sp.oo)\n",
    "print('Since the limit of bn is {bn_lim} the series converges and \\n thus an will also converge, since bn is greater than an as per the comparison test ')"
   ]
  },
  {
   "cell_type": "markdown",
   "id": "f3eee26a",
   "metadata": {},
   "source": [
    "#### 3d"
   ]
  },
  {
   "cell_type": "code",
   "execution_count": null,
   "id": "784e4fa2",
   "metadata": {},
   "outputs": [
    {
     "name": "stdout",
     "output_type": "stream",
     "text": [
      "Since the limit of bn is {bn_lim} the series converges and \n",
      " thus an will also converge, since bn is greater than an as per the comparison test \n"
     ]
    }
   ],
   "source": [
    "# Leave this blank if you already drew a conclusion in Part C.\n",
    "bn_lim = sp.limit(bn,n,sp.oo)\n",
    "print('Since the limit of bn is {bn_lim} the series converges and \\n thus an will also converge, since bn is greater than an as per the comparison test ')"
   ]
  },
  {
   "cell_type": "code",
   "execution_count": null,
   "id": "6d267b91",
   "metadata": {},
   "outputs": [],
   "source": []
  }
 ],
 "metadata": {
  "kernelspec": {
   "display_name": "Python 3 (ipykernel)",
   "language": "python",
   "name": "python3"
  },
  "language_info": {
   "codemirror_mode": {
    "name": "ipython",
    "version": 3
   },
   "file_extension": ".py",
   "mimetype": "text/x-python",
   "name": "python",
   "nbconvert_exporter": "python",
   "pygments_lexer": "ipython3",
   "version": "3.10.12"
  }
 },
 "nbformat": 4,
 "nbformat_minor": 5
}
