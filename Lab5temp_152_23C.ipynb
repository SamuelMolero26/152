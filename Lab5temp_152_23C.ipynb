{
 "cells": [
  {
   "cell_type": "markdown",
   "id": "20c00fa5",
   "metadata": {},
   "source": [
    "## MATH 152 Lab 5"
   ]
  },
  {
   "cell_type": "markdown",
   "id": "7c243ef1",
   "metadata": {},
   "source": [
    "Put team members' names and section number here."
   ]
  },
  {
   "cell_type": "code",
   "execution_count": 6,
   "id": "cf836732",
   "metadata": {},
   "outputs": [],
   "source": [
    "import sympy as sp\n",
    "from sympy.plotting import (plot,plot_parametric)"
   ]
  },
  {
   "cell_type": "markdown",
   "id": "3169990f",
   "metadata": {},
   "source": [
    "### Question 1"
   ]
  },
  {
   "cell_type": "markdown",
   "id": "f0561a86",
   "metadata": {},
   "source": [
    "#### 1a"
   ]
  },
  {
   "cell_type": "code",
   "execution_count": 112,
   "id": "cbfab3f6",
   "metadata": {},
   "outputs": [
    {
     "name": "stdout",
     "output_type": "stream",
     "text": [
      "factor the bottom of the fraction\n"
     ]
    },
    {
     "data": {
      "text/latex": [
       "$\\displaystyle \\left(x^{2} + 1\\right) \\left(x^{2} + 2\\right)$"
      ],
      "text/plain": [
       "(x**2 + 1)*(x**2 + 2)"
      ]
     },
     "metadata": {},
     "output_type": "display_data"
    },
    {
     "name": "stdout",
     "output_type": "stream",
     "text": [
      "Write in partial fraction format\n"
     ]
    },
    {
     "data": {
      "text/latex": [
       "$\\displaystyle \\frac{A x + B}{x^{2} + 1}$"
      ],
      "text/plain": [
       "(A*x + B)/(x**2 + 1)"
      ]
     },
     "metadata": {},
     "output_type": "display_data"
    },
    {
     "data": {
      "text/latex": [
       "$\\displaystyle \\frac{C x + D}{x^{2} + 2}$"
      ],
      "text/plain": [
       "(C*x + D)/(x**2 + 2)"
      ]
     },
     "metadata": {},
     "output_type": "display_data"
    },
    {
     "name": "stdout",
     "output_type": "stream",
     "text": [
      "Distribute and multiply\n"
     ]
    },
    {
     "data": {
      "text/plain": [
       "'Solution is'"
      ]
     },
     "metadata": {},
     "output_type": "display_data"
    },
    {
     "data": {
      "text/plain": [
       "{A: -1, C: 2, B: -3, D: 3}"
      ]
     },
     "metadata": {},
     "output_type": "display_data"
    },
    {
     "data": {
      "text/latex": [
       "$\\displaystyle \\frac{- x - 3}{x^{2} + 1} + \\frac{2 x + 3}{x^{2} + 2}$"
      ],
      "text/plain": [
       "(-x - 3)/(x**2 + 1) + (2*x + 3)/(x**2 + 2)"
      ]
     },
     "metadata": {},
     "output_type": "display_data"
    }
   ],
   "source": [
    "x,A,B,C,D = sp.symbols('x, A, B, C, D')\n",
    "\n",
    "f_x = sp.Integral((x**3 -3)/(x**4+3*x**2+2))\n",
    "\n",
    "#factor the bottom of the fractioni\n",
    "print(\"factor the bottom of the fraction\")\n",
    "bottom = sp.factor(x**4+3*x**2+2)\n",
    "display(bottom)\n",
    "\n",
    "print(\"Write in partial fraction format\")\n",
    "# (x^2+1)(x^2+2)\n",
    "factors = bottom.args\n",
    "left = (A*x+B) / (factors[0])\n",
    "right = (C*x+D) / (factors[1])\n",
    "display(left,right)\n",
    "\n",
    "print(\"Distribute and multiply\")\n",
    "top = sp.expand((A*x+B) * factors[1] + (C*x+D) * factors[0])\n",
    "sp.collect(top,x)\n",
    "\n",
    "\n",
    "eq1=A+C-1 \n",
    "eq2= B+D\n",
    "eq3=2*A+C \n",
    "eq4=2*B+D+3 \n",
    "\n",
    "coeffs=sp.solve([eq1,eq2,eq3,eq4],[A,B,C,D])\n",
    "display('Solution is',coeffs)\n",
    "\n",
    "pfracexpand = left + right\n",
    "f_integrate = pfracexpand.subs(coeffs)\n",
    "display(f_integrate)\n"
   ]
  },
  {
   "cell_type": "markdown",
   "id": "efdd616f",
   "metadata": {},
   "source": [
    "#### 1b "
   ]
  },
  {
   "cell_type": "code",
   "execution_count": 46,
   "id": "898de08d",
   "metadata": {},
   "outputs": [
    {
     "name": "stdout",
     "output_type": "stream",
     "text": [
      "Using the sp.apart command\n"
     ]
    },
    {
     "data": {
      "text/latex": [
       "$\\displaystyle - \\frac{x + 3}{x^{2} + 1} + \\frac{2 x + 3}{x^{2} + 2}$"
      ],
      "text/plain": [
       "-(x + 3)/(x**2 + 1) + (2*x + 3)/(x**2 + 2)"
      ]
     },
     "metadata": {},
     "output_type": "display_data"
    }
   ],
   "source": [
    "# Start your code here\n",
    "f_x = ((x**3 -3)/(x**4+3*x**2+2))\n",
    "print(\"Using the sp.apart command\")\n",
    "result = sp.apart(f_x,x)\n",
    "display(result)\n",
    "\n"
   ]
  },
  {
   "cell_type": "markdown",
   "id": "adba38fb",
   "metadata": {},
   "source": [
    "#### 1c"
   ]
  },
  {
   "cell_type": "code",
   "execution_count": 48,
   "id": "068e0f93",
   "metadata": {},
   "outputs": [
    {
     "data": {
      "text/latex": [
       "$\\displaystyle - \\frac{\\log{\\left(x^{2} + 1 \\right)}}{2} + \\log{\\left(x^{2} + 2 \\right)} - 3 \\operatorname{atan}{\\left(x \\right)} + \\frac{3 \\sqrt{2} \\operatorname{atan}{\\left(\\frac{\\sqrt{2} x}{2} \\right)}}{2}$"
      ],
      "text/plain": [
       "-log(x**2 + 1)/2 + log(x**2 + 2) - 3*atan(x) + 3*sqrt(2)*atan(sqrt(2)*x/2)/2"
      ]
     },
     "metadata": {},
     "output_type": "display_data"
    }
   ],
   "source": [
    "# Start your code here\n",
    "\n",
    "final = sp.integrate(result,x)\n",
    "display(final)\n",
    "\n"
   ]
  },
  {
   "cell_type": "markdown",
   "id": "8b00f000",
   "metadata": {},
   "source": [
    "### Question 2 "
   ]
  },
  {
   "cell_type": "markdown",
   "id": "ccffd0d0",
   "metadata": {},
   "source": [
    "#### 2a"
   ]
  },
  {
   "cell_type": "code",
   "execution_count": 22,
   "id": "9ebb9309",
   "metadata": {},
   "outputs": [
    {
     "name": "stdout",
     "output_type": "stream",
     "text": [
      "The Value of a is 123.370055013617\n"
     ]
    }
   ],
   "source": [
    "# Start your code here\n",
    "\n",
    "x, a = sp.symbols('x , a', real = True, positive = True)\n",
    "\n",
    "f = (x**2) / (x**4+a**2)\n",
    "\n",
    "\n",
    "expression = sp.integrate(f,(x,0,sp.oo))\n",
    "expression1 = sp.Eq(expression,0.1)\n",
    "result = sp.solve(expression1,a)\n",
    "\n",
    "print(f\"The Value of a is {result[0]}\")\n"
   ]
  },
  {
   "cell_type": "markdown",
   "id": "baa2be1a",
   "metadata": {},
   "source": [
    "#### 2b"
   ]
  },
  {
   "cell_type": "code",
   "execution_count": 146,
   "id": "92832935",
   "metadata": {},
   "outputs": [
    {
     "name": "stdout",
     "output_type": "stream",
     "text": [
      "The value of a is 1.07812886361817\n"
     ]
    }
   ],
   "source": [
    "# Start your code here\n",
    "x, a = sp.symbols('x , a', real = True, positive = True)\n",
    "\n",
    "f_1 = x**6*sp.exp(-x**7)\n",
    "\n",
    "exp_1 = sp.integrate(f_1,(x,1,a))\n",
    "\n",
    "\n",
    "exp_2 = sp.integrate(f_1,(x,a,sp.oo))\n",
    "\n",
    "final = sp.solve((exp_1 - exp_2),a)\n",
    "print(\"The value of a is\", final[0].evalf())\n"
   ]
  },
  {
   "cell_type": "markdown",
   "id": "3dcc5f6d",
   "metadata": {},
   "source": [
    "#### 2c"
   ]
  },
  {
   "cell_type": "code",
   "execution_count": 169,
   "id": "67d0a563",
   "metadata": {},
   "outputs": [
    {
     "name": "stdout",
     "output_type": "stream",
     "text": [
      "The value of the integral is 0.0525542058816346\n"
     ]
    }
   ],
   "source": [
    "# Start your code here\n",
    "value = 1.07812886361817\n",
    "\n",
    "f_1 = x**6*sp.exp(-x**7)\n",
    "\n",
    "\n",
    "\n",
    "exp_1 = sp.integrate(f_1,(x,1,value)) + sp.integrate(f_1,(x,value,sp.oo))\n",
    "value2 = exp_1.evalf()\n",
    "\n",
    "print(\"The value of the integral is\", value2)\n"
   ]
  },
  {
   "cell_type": "markdown",
   "id": "7e20a1d3",
   "metadata": {},
   "source": [
    "### Question 3"
   ]
  },
  {
   "cell_type": "markdown",
   "id": "f695ae23",
   "metadata": {},
   "source": [
    "#### 3a"
   ]
  },
  {
   "cell_type": "code",
   "execution_count": 141,
   "id": "41756879",
   "metadata": {},
   "outputs": [
    {
     "name": "stdout",
     "output_type": "stream",
     "text": [
      "g(x) converges because the limit is 2*pi\n"
     ]
    }
   ],
   "source": [
    "# Start your code here\n",
    "f_x = (4 * sp.atan(x))/x**2\n",
    "g_x = (2*sp.pi)/ (x**2)\n",
    "\n",
    "t = sp.oo\n",
    "f = sp.integrate(g_x,(x,1,sp.oo))\n",
    "\n",
    "lim = sp.limit(f,x,sp.oo)\n",
    "\n",
    "if lim != sp.oo:\n",
    "    print(\"g(x) converges because the limit is\",lim)\n",
    "else:\n",
    "    print(\"g(x) diverges because the limit is\",lim)\n",
    "\n",
    "\n",
    "\n",
    "\n"
   ]
  },
  {
   "cell_type": "markdown",
   "id": "35d20561",
   "metadata": {},
   "source": [
    "#### 3b"
   ]
  },
  {
   "cell_type": "code",
   "execution_count": 122,
   "id": "21ea705e",
   "metadata": {},
   "outputs": [
    {
     "data": {
      "image/png": "[encoded data removed]",
      "text/plain": [
       "<Figure size 640x480 with 1 Axes>"
      ]
     },
     "metadata": {},
     "output_type": "display_data"
    }
   ],
   "source": [
    "# Start your code here\n",
    "plot1 = plot(f_x,g_x,(x,1,10), show = False)\n",
    "plot1.show()"
   ]
  },
  {
   "cell_type": "markdown",
   "id": "e256ce52",
   "metadata": {},
   "source": [
    "#### 3c"
   ]
  },
  {
   "cell_type": "code",
   "execution_count": 124,
   "id": "634d3d59",
   "metadata": {},
   "outputs": [
    {
     "data": {
      "text/latex": [
       "$\\displaystyle 2 \\log{\\left(2 \\right)} + \\pi$"
      ],
      "text/plain": [
       "2*log(2) + pi"
      ]
     },
     "metadata": {},
     "output_type": "display_data"
    }
   ],
   "source": [
    "# Start your code here\n",
    "solve_fx = sp.integrate(f_x,(x,1,sp.oo))\n",
    "display(solve_fx)"
   ]
  },
  {
   "cell_type": "markdown",
   "id": "809cd585",
   "metadata": {},
   "source": [
    "#### 3d"
   ]
  },
  {
   "cell_type": "code",
   "execution_count": 142,
   "id": "9e851299",
   "metadata": {},
   "outputs": [
    {
     "name": "stdout",
     "output_type": "stream",
     "text": [
      "Since the power of the denominator is greate than 1, then the integral converges.\n"
     ]
    }
   ],
   "source": [
    "# Write your answer either in comments or in a print statement.\n",
    "print(\"Since the power of the denominator is greate than 1, then the integral converges.\")"
   ]
  }
 ],
 "metadata": {
  "kernelspec": {
   "display_name": "Python 3 (ipykernel)",
   "language": "python",
   "name": "python3"
  },
  "language_info": {
   "codemirror_mode": {
    "name": "ipython",
    "version": 3
   },
   "file_extension": ".py",
   "mimetype": "text/x-python",
   "name": "python",
   "nbconvert_exporter": "python",
   "pygments_lexer": "ipython3",
   "version": "3.10.12"
  }
 },
 "nbformat": 4,
 "nbformat_minor": 5
}
