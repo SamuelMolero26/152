{
 "cells": [
  {
   "cell_type": "markdown",
   "id": "20c00fa5",
   "metadata": {},
   "source": [
    "## MATH 152 Lab  4"
   ]
  },
  {
   "cell_type": "markdown",
   "id": "7c243ef1",
   "metadata": {},
   "source": [
    "Blake Stewart and Samuel Molero"
   ]
  },
  {
   "cell_type": "code",
   "execution_count": 3,
   "id": "cf836732",
   "metadata": {},
   "outputs": [],
   "source": [
    "import numpy as np\n",
    "import sympy as sp\n",
    "from sympy.plotting import (plot, plot_parametric)"
   ]
  },
  {
   "cell_type": "markdown",
   "id": "3169990f",
   "metadata": {},
   "source": [
    "### Question 1"
   ]
  },
  {
   "cell_type": "markdown",
   "id": "f0561a86",
   "metadata": {},
   "source": [
    "#### 1a"
   ]
  },
  {
   "cell_type": "code",
   "execution_count": 4,
   "id": "cbfab3f6",
   "metadata": {},
   "outputs": [
    {
     "data": {
      "image/png": "[encoded data removed]",
      "text/plain": [
       "<Figure size 640x480 with 1 Axes>"
      ]
     },
     "metadata": {},
     "output_type": "display_data"
    }
   ],
   "source": [
    "# Given the normal distribution, plot.\n",
    "x = sp.symbols('x')\n",
    "f_x = (1 / (3*sp.sqrt(2*sp.pi)))*sp.exp((-1/2)*(x/3)**2)\n",
    "\n",
    "\n",
    "p1 = plot(f_x,(x,-9,9), show = False)\n",
    "p1.show()\n"
   ]
  },
  {
   "cell_type": "markdown",
   "id": "efdd616f",
   "metadata": {},
   "source": [
    "#### 1b Left Endpoint Approximation"
   ]
  },
  {
   "cell_type": "code",
   "execution_count": 5,
   "id": "898de08d",
   "metadata": {},
   "outputs": [
    {
     "name": "stdout",
     "output_type": "stream",
     "text": [
      "The Left endpoint Approximation from -6 to 6 is:  5.99729148058229\n"
     ]
    }
   ],
   "source": [
    "n = 500\n",
    "a = -6\n",
    "b = 6\n",
    "\n",
    "delta_x = (b-(a))/n\n",
    "x_i = np.arange(a,b,delta_x)\n",
    "\n",
    "y_i = (1 / 3*sp.sqrt(2*sp.pi)) * (sp.E**((-1/2)*(x_i/3)**2))\n",
    "\n",
    "L_500 =sum(y_i) * delta_x\n",
    "print('The Left endpoint Approximation from -6 to 6 is: ', L_500.evalf())"
   ]
  },
  {
   "cell_type": "markdown",
   "id": "8b00f000",
   "metadata": {},
   "source": [
    "### Question 2 Right Endpoint Approximation"
   ]
  },
  {
   "cell_type": "code",
   "execution_count": 6,
   "id": "be2f2c71",
   "metadata": {},
   "outputs": [
    {
     "name": "stdout",
     "output_type": "stream",
     "text": [
      "The right hand sidde approximation from [-6,6] is: 5.99729148058229\n"
     ]
    }
   ],
   "source": [
    "dx = (b-(a)) / n\n",
    "x_i = np.arange(a+dx,b+dx,dx)\n",
    "y_i = (1 / 3*sp.sqrt(2*sp.pi)) * (sp.E**((-1/2)*(x_i/3)**2))\n",
    "\n",
    "R_500 =sum(y_i) * delta_x\n",
    "print(\"The right hand sidde approximation from [-6,6] is:\", R_500.evalf()) "
   ]
  },
  {
   "cell_type": "markdown",
   "id": "1fb8b9b8",
   "metadata": {},
   "source": [
    "### Question 3 Midpoint Approximation"
   ]
  },
  {
   "cell_type": "markdown",
   "id": "ccffd0d0",
   "metadata": {},
   "source": [
    "#### 3a"
   ]
  },
  {
   "cell_type": "code",
   "execution_count": 7,
   "id": "9ebb9309",
   "metadata": {},
   "outputs": [
    {
     "name": "stdout",
     "output_type": "stream",
     "text": [
      "The midpoint approximation is  5.99730233609575\n"
     ]
    }
   ],
   "source": [
    "dx = (b-(a)) / n\n",
    "xi = np.arange((a + (dx/2)), (b+(dx/2)), dx)\n",
    "y_i = (1 / 3*sp.sqrt(2*sp.pi)) * (sp.E**((-1/2)*(xi/3)**2))\n",
    "M500 = sum(y_i) * dx\n",
    "print('The midpoint approximation is ', M500.evalf())"
   ]
  },
  {
   "cell_type": "markdown",
   "id": "baa2be1a",
   "metadata": {},
   "source": [
    "#### 3b"
   ]
  },
  {
   "cell_type": "code",
   "execution_count": 8,
   "id": "92832935",
   "metadata": {},
   "outputs": [
    {
     "name": "stdout",
     "output_type": "stream",
     "text": [
      "they are not the same\n"
     ]
    }
   ],
   "source": [
    "average = (R_500 + L_500 )/ 2\n",
    "\n",
    "if average  == M500:\n",
    "    print(\"The are the same\")\n",
    "else:\n",
    "    print(\"they are not the same\")\n"
   ]
  },
  {
   "cell_type": "markdown",
   "id": "7e20a1d3",
   "metadata": {},
   "source": [
    "### Question 4 Trapezoid Approximation"
   ]
  },
  {
   "cell_type": "markdown",
   "id": "f695ae23",
   "metadata": {},
   "source": [
    "#### 4a"
   ]
  },
  {
   "cell_type": "code",
   "execution_count": 9,
   "id": "41756879",
   "metadata": {
    "scrolled": true
   },
   "outputs": [
    {
     "name": "stderr",
     "output_type": "stream",
     "text": [
      "/tmp/ipykernel_244480/2063998966.py:9: DeprecationWarning: 'scipy.integrate.trapz' is deprecated in favour of 'scipy.integrate.trapezoid' and will be removed in SciPy 1.14.0\n",
      "  approximation = trapz(y_i,xi)\n"
     ]
    },
    {
     "name": "stdout",
     "output_type": "stream",
     "text": [
      "The Trapezoid approximation is: 5.99729148058230\n"
     ]
    }
   ],
   "source": [
    "from scipy.integrate import trapz\n",
    "n= 500 \n",
    "a = -6\n",
    "b = 6\n",
    "dx = (b- (a)) / n\n",
    "xi = np.arange(a,b+dx,dx)\n",
    "y_i = (1 / 3*sp.sqrt(2*sp.pi)) * (sp.E**((-1/2)*(xi/3)**2))\n",
    "\n",
    "approximation = trapz(y_i,xi)\n",
    "print(\"The Trapezoid approximation is:\", approximation.evalf())\n",
    "\n"
   ]
  },
  {
   "cell_type": "markdown",
   "id": "35d20561",
   "metadata": {},
   "source": [
    "#### 4b"
   ]
  },
  {
   "cell_type": "code",
   "execution_count": 10,
   "id": "21ea705e",
   "metadata": {},
   "outputs": [
    {
     "name": "stdout",
     "output_type": "stream",
     "text": [
      "It is not equal to the average\n"
     ]
    }
   ],
   "source": [
    "\n",
    "if approximation == average:\n",
    "    print(\"It is equal to the average\")\n",
    "else:\n",
    "    print(\"It is not equal to the average\")"
   ]
  },
  {
   "cell_type": "markdown",
   "id": "061c207e",
   "metadata": {},
   "source": [
    "### Question 5 Simpson's Rule"
   ]
  },
  {
   "cell_type": "code",
   "execution_count": 11,
   "id": "82c61cf9",
   "metadata": {},
   "outputs": [
    {
     "name": "stderr",
     "output_type": "stream",
     "text": [
      "/tmp/ipykernel_244480/3215813395.py:5: DeprecationWarning: 'scipy.integrate.simps' is deprecated in favour of 'scipy.integrate.simpson' and will be removed in SciPy 1.14.0\n",
      "  simpson = simps(yi,xi)\n"
     ]
    },
    {
     "name": "stdout",
     "output_type": "stream",
     "text": [
      "The simpsons approximation 5.99729871756232\n"
     ]
    }
   ],
   "source": [
    "from scipy.integrate import simps\n",
    "\n",
    "xi = np.arange(-6,6+dx,dx)\n",
    "yi = (1 / 3*sp.sqrt(2*sp.pi)) * (sp.E**((-1/2)*(xi/3)**2))\n",
    "simpson = simps(yi,xi)\n",
    "print('The simpsons approximation', simpson.evalf())\n",
    "\n"
   ]
  },
  {
   "cell_type": "markdown",
   "id": "adb2f208",
   "metadata": {},
   "source": [
    "### Question 6 Errors"
   ]
  },
  {
   "cell_type": "code",
   "execution_count": 17,
   "id": "ff13aa14",
   "metadata": {},
   "outputs": [
    {
     "name": "stdout",
     "output_type": "stream",
     "text": [
      "The error in the leftendpoit 5.04279174447865\n",
      "The error in the rightpoint 5.04279174447865\n",
      "The error in the midpoint 5.04280259999210\n",
      "The error in the Trapezoid approximation 5.04279174447866\n",
      "The error in the Simpson approximation 5.04279898145867\n"
     ]
    }
   ],
   "source": [
    "actual = 0.954499736103642\n",
    "left = abs(actual - L_500)\n",
    "print('The error in the leftendpoit', left.evalf())\n",
    "right = abs(actual - R_500)\n",
    "print('The error in the rightpoint', right.evalf())\n",
    "middle = abs(actual - M500)\n",
    "print('The error in the midpoint', middle.evalf())\n",
    "trap = abs(actual - approximation)\n",
    "print('The error in the Trapezoid approximation', trap.evalf())\n",
    "simp = abs(actual - simpson)\n",
    "print('The error in the Simpson approximation', simp.evalf())\n",
    "\n",
    "\n",
    "\n"
   ]
  },
  {
   "cell_type": "code",
   "execution_count": null,
   "id": "14704610",
   "metadata": {},
   "outputs": [],
   "source": []
  }
 ],
 "metadata": {
  "kernelspec": {
   "display_name": "Python 3 (ipykernel)",
   "language": "python",
   "name": "python3"
  },
  "language_info": {
   "codemirror_mode": {
    "name": "ipython",
    "version": 3
   },
   "file_extension": ".py",
   "mimetype": "text/x-python",
   "name": "python",
   "nbconvert_exporter": "python",
   "pygments_lexer": "ipython3",
   "version": "3.8.17"
  }
 },
 "nbformat": 4,
 "nbformat_minor": 5
}
