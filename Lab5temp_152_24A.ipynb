{
 "cells": [
  {
   "cell_type": "markdown",
   "id": "20c00fa5",
   "metadata": {},
   "source": [
    "## MATH 152 Lab 5"
   ]
  },
  {
   "cell_type": "markdown",
   "id": "7c243ef1",
   "metadata": {},
   "source": [
    "Blake Stewart and Samuel Molero"
   ]
  },
  {
   "cell_type": "code",
   "execution_count": 1,
   "id": "cf836732",
   "metadata": {},
   "outputs": [],
   "source": [
    "import sympy as sp\n",
    "from sympy.plotting import (plot,plot_parametric)"
   ]
  },
  {
   "cell_type": "markdown",
   "id": "3169990f",
   "metadata": {},
   "source": [
    "### Question 1"
   ]
  },
  {
   "cell_type": "markdown",
   "id": "f0561a86",
   "metadata": {},
   "source": [
    "#### 1a"
   ]
  },
  {
   "cell_type": "code",
   "execution_count": 38,
   "id": "cbfab3f6",
   "metadata": {},
   "outputs": [
    {
     "name": "stdout",
     "output_type": "stream",
     "text": [
      "Factor the denominator:\n"
     ]
    },
    {
     "data": {
      "text/latex": [
       "$\\displaystyle \\left(x^{2} + 4\\right) \\left(2 x^{2} + 9\\right)$"
      ],
      "text/plain": [
       "(x**2 + 4)*(2*x**2 + 9)"
      ]
     },
     "metadata": {},
     "output_type": "display_data"
    },
    {
     "name": "stdout",
     "output_type": "stream",
     "text": [
      "Partial fraction format:\n"
     ]
    },
    {
     "data": {
      "text/latex": [
       "$\\displaystyle \\frac{A x + B}{2 x^{2} + 9} + \\frac{C x + D}{x^{2} + 4}$"
      ],
      "text/plain": [
       "(A*x + B)/(2*x**2 + 9) + (C*x + D)/(x**2 + 4)"
      ]
     },
     "metadata": {},
     "output_type": "display_data"
    },
    {
     "name": "stdout",
     "output_type": "stream",
     "text": [
      "Distribute and multiply: \n",
      "Solution:\n"
     ]
    },
    {
     "data": {
      "text/plain": [
       "{A: -2, B: -14, C: 1, D: 7}"
      ]
     },
     "metadata": {},
     "output_type": "display_data"
    },
    {
     "data": {
      "text/latex": [
       "$\\displaystyle \\frac{- 2 x - 14}{2 x^{2} + 9} + \\frac{x + 7}{x^{2} + 4}$"
      ],
      "text/plain": [
       "(-2*x - 14)/(2*x**2 + 9) + (x + 7)/(x**2 + 4)"
      ]
     },
     "metadata": {},
     "output_type": "display_data"
    }
   ],
   "source": [
    "# Start your code here\n",
    "\n",
    "x, A ,B, C , D = sp.symbols('x A B C D')\n",
    "\n",
    "equation = (x + 7) / (2*x**4+17*x**2+36)\n",
    "\n",
    "bottom = (2*x**4+17*x**2+36)\n",
    "bottom = bottom.factor()\n",
    "\n",
    "factor = bottom.args\n",
    "print('Factor the denominator:')\n",
    "display(bottom)\n",
    "\n",
    "left = (A*x + B) / (factor[1])\n",
    "right = (C*x+D) / (factor[0])\n",
    "\n",
    "print('Partial fraction format:')\n",
    "partial = left +  right\n",
    "display(partial)\n",
    "\n",
    "print('Distribute and multiply: ')\n",
    "top = sp.expand(((A*x + B)*(factor[1]))+ ((C*x+D)*(factor[0])))\n",
    "sp.collect(top,x)\n",
    "\n",
    "eq_1 = 4*A + 9*C - 1\n",
    "eq_2 = A + 2*C\n",
    "eq_3 = B + 2*D\n",
    "eq_4 = 4*B + 9*D - 7\n",
    "\n",
    "coeffs = sp.solve([eq_1,eq_2,eq_3,eq_4],[A,B,C,D])\n",
    "print('Solution:')\n",
    "display(coeffs)\n",
    "\n",
    "\n",
    "final = left + right\n",
    "f_integrate = final.subs(coeffs)\n",
    "display(f_integrate)\n",
    "\n",
    "\n",
    "\n",
    "\n",
    "\n",
    "\n"
   ]
  },
  {
   "cell_type": "markdown",
   "id": "efdd616f",
   "metadata": {},
   "source": [
    "#### 1b "
   ]
  },
  {
   "cell_type": "code",
   "execution_count": 39,
   "id": "898de08d",
   "metadata": {},
   "outputs": [
    {
     "name": "stdout",
     "output_type": "stream",
     "text": [
      "Using sp.apart command: \n"
     ]
    },
    {
     "data": {
      "text/latex": [
       "$\\displaystyle - \\frac{2 \\left(x + 7\\right)}{2 x^{2} + 9} + \\frac{x + 7}{x^{2} + 4}$"
      ],
      "text/plain": [
       "-2*(x + 7)/(2*x**2 + 9) + (x + 7)/(x**2 + 4)"
      ]
     },
     "metadata": {},
     "output_type": "display_data"
    }
   ],
   "source": [
    "# Start your code here\n",
    "print('Using sp.apart command: ')\n",
    "display(sp.apart(equation))\n"
   ]
  },
  {
   "cell_type": "markdown",
   "id": "adba38fb",
   "metadata": {},
   "source": [
    "#### 1c"
   ]
  },
  {
   "cell_type": "code",
   "execution_count": 42,
   "id": "068e0f93",
   "metadata": {},
   "outputs": [
    {
     "data": {
      "text/latex": [
       "$\\displaystyle \\frac{\\log{\\left(x^{2} + 4 \\right)}}{2} - \\frac{\\log{\\left(x^{2} + \\frac{9}{2} \\right)}}{2} + \\frac{7 \\operatorname{atan}{\\left(\\frac{x}{2} \\right)}}{2} - \\frac{7 \\sqrt{2} \\operatorname{atan}{\\left(\\frac{\\sqrt{2} x}{3} \\right)}}{3}$"
      ],
      "text/plain": [
       "log(x**2 + 4)/2 - log(x**2 + 9/2)/2 + 7*atan(x/2)/2 - 7*sqrt(2)*atan(sqrt(2)*x/3)/3"
      ]
     },
     "metadata": {},
     "output_type": "display_data"
    }
   ],
   "source": [
    "# Start your code here\n",
    "with_command = sp.apart(equation)\n",
    "final = sp.integrate(with_command)\n",
    "display(final)\n"
   ]
  },
  {
   "cell_type": "markdown",
   "id": "8b00f000",
   "metadata": {},
   "source": [
    "### Question 2 "
   ]
  },
  {
   "cell_type": "markdown",
   "id": "ccffd0d0",
   "metadata": {},
   "source": [
    "#### 2a"
   ]
  },
  {
   "cell_type": "code",
   "execution_count": 51,
   "id": "9ebb9309",
   "metadata": {},
   "outputs": [
    {
     "name": "stdout",
     "output_type": "stream",
     "text": [
      "The Value of a is: \n"
     ]
    },
    {
     "data": {
      "text/latex": [
       "$\\displaystyle 10.5917306617767$"
      ],
      "text/plain": [
       "10.5917306617767"
      ]
     },
     "metadata": {},
     "output_type": "display_data"
    }
   ],
   "source": [
    "# Start your code here\n",
    "x, a = sp.symbols('x a', positive = True)\n",
    "\n",
    "eq = (x**2) / (x**5 + a**2)\n",
    "\n",
    "expression  = sp.integrate(eq,(x,0,sp.oo))\n",
    "expression1 = sp.Eq(expression,0.1)\n",
    "result = sp.solve(expression1, a)\n",
    "print(\"The Value of a is: \")\n",
    "display(result[0])"
   ]
  },
  {
   "cell_type": "markdown",
   "id": "baa2be1a",
   "metadata": {},
   "source": [
    "#### 2b"
   ]
  },
  {
   "cell_type": "code",
   "execution_count": 69,
   "id": "92832935",
   "metadata": {},
   "outputs": [
    {
     "name": "stdout",
     "output_type": "stream",
     "text": [
      "The value of a is 1.07812886361817\n"
     ]
    }
   ],
   "source": [
    "# Start your code here\n",
    "eq2 = (x**6)*sp.exp(-x**7)\n",
    "\n",
    "exp_1 = sp.integrate(eq2,(x,1,a))\n",
    "exp_2 = sp.integrate(eq2,(x,a,sp.oo))\n",
    "\n",
    "final = sp.solve((exp_1 - exp_2), a)\n",
    "\n",
    "print('The value of a is', final[0].evalf())"
   ]
  },
  {
   "cell_type": "markdown",
   "id": "3dcc5f6d",
   "metadata": {},
   "source": [
    "#### 2c"
   ]
  },
  {
   "cell_type": "code",
   "execution_count": 72,
   "id": "67d0a563",
   "metadata": {},
   "outputs": [
    {
     "name": "stdout",
     "output_type": "stream",
     "text": [
      "The value of the integral is:  0.0525542058816346\n"
     ]
    }
   ],
   "source": [
    "# Start your code here\n",
    "value = 1.07812886361817\n",
    "eq2 = (x**6)*sp.exp(-x**7)\n",
    "\n",
    "exp_1 = sp.integrate(eq2,(x,1,value)) + sp.integrate(eq2,(x,value,sp.oo))\n",
    "value2 = exp_1.evalf()\n",
    "\n",
    "print('The value of the integral is: ', value2)\n"
   ]
  },
  {
   "cell_type": "markdown",
   "id": "7e20a1d3",
   "metadata": {},
   "source": [
    "### Question 3"
   ]
  },
  {
   "cell_type": "markdown",
   "id": "f695ae23",
   "metadata": {},
   "source": [
    "#### 3a"
   ]
  },
  {
   "cell_type": "code",
   "execution_count": 75,
   "id": "41756879",
   "metadata": {},
   "outputs": [
    {
     "name": "stdout",
     "output_type": "stream",
     "text": [
      "g(x) diverges because the limit is oo\n"
     ]
    }
   ],
   "source": [
    "# Start your code here\n",
    "\n",
    "eq3 = (sp.sin(x) + 2) / x\n",
    "eq4 = 1 / x\n",
    "\n",
    "f = sp.integrate(eq4,(x,1,sp.oo))\n",
    "\n",
    "lim = sp.limit(f,x,sp.oo)\n",
    "\n",
    "if lim != sp.oo:\n",
    "    print('g(x) converges because the limis is', lim)\n",
    "else:\n",
    "    print('g(x) diverges because the limit is', lim)"
   ]
  },
  {
   "cell_type": "markdown",
   "id": "35d20561",
   "metadata": {},
   "source": [
    "#### 3b"
   ]
  },
  {
   "cell_type": "code",
   "execution_count": 76,
   "id": "21ea705e",
   "metadata": {},
   "outputs": [
    {
     "data": {
      "image/png": "[encoded data removed]",
      "text/plain": [
       "<Figure size 640x480 with 1 Axes>"
      ]
     },
     "metadata": {},
     "output_type": "display_data"
    }
   ],
   "source": [
    "# Start your code here\n",
    "plot1 = plot(eq3,eq4,(x,1,10), show = False)\n",
    "plot1.show()"
   ]
  },
  {
   "cell_type": "markdown",
   "id": "e256ce52",
   "metadata": {},
   "source": [
    "#### 3c"
   ]
  },
  {
   "cell_type": "code",
   "execution_count": 79,
   "id": "634d3d59",
   "metadata": {},
   "outputs": [
    {
     "data": {
      "text/latex": [
       "$\\displaystyle - \\operatorname{Si}{\\left(1 \\right)} + \\infty$"
      ],
      "text/plain": [
       "-Si(1) + oo"
      ]
     },
     "metadata": {},
     "output_type": "display_data"
    },
    {
     "name": "stdout",
     "output_type": "stream",
     "text": [
      "The integrals diverges for its limit is appraches infiity / DNE\n"
     ]
    }
   ],
   "source": [
    "# Start your code here\n",
    "solve_fx = sp.integrate(eq3,(x,1,sp.oo))\n",
    "display(solve_fx)\n",
    "print('The integrals diverges for its limit is appraches infiity / DNE')"
   ]
  },
  {
   "cell_type": "markdown",
   "id": "809cd585",
   "metadata": {},
   "source": [
    "#### 3d"
   ]
  },
  {
   "cell_type": "code",
   "execution_count": 80,
   "id": "9e851299",
   "metadata": {},
   "outputs": [
    {
     "name": "stdout",
     "output_type": "stream",
     "text": [
      "By using the p-series, we can determiend that since the coeefficient of the denominatos fall under the premise p <= 1, that the function diverges\n"
     ]
    }
   ],
   "source": [
    "# Write your answer either in comments or in a print statement.\n",
    "print('By using the p-series, we can determiend that since the coeefficient of the denominatos fall under the premise p <= 1, that the function diverges')\n"
   ]
  },
  {
   "cell_type": "code",
   "execution_count": null,
   "id": "21fece03-e7d8-4f36-8200-2c61f0ff50b3",
   "metadata": {},
   "outputs": [],
   "source": []
  }
 ],
 "metadata": {
  "kernelspec": {
   "display_name": "Python 3 (ipykernel)",
   "language": "python",
   "name": "python3"
  },
  "language_info": {
   "codemirror_mode": {
    "name": "ipython",
    "version": 3
   },
   "file_extension": ".py",
   "mimetype": "text/x-python",
   "name": "python",
   "nbconvert_exporter": "python",
   "pygments_lexer": "ipython3",
   "version": "3.10.12"
  }
 },
 "nbformat": 4,
 "nbformat_minor": 5
}
