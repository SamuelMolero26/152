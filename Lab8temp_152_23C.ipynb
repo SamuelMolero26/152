{
 "cells": [
  {
   "cell_type": "markdown",
   "id": "20c00fa5",
   "metadata": {
    "id": "20c00fa5"
   },
   "source": [
    "## MATH 152 Lab 8"
   ]
  },
  {
   "cell_type": "markdown",
   "id": "7c243ef1",
   "metadata": {
    "id": "7c243ef1"
   },
   "source": [
    "Put team members' names and section number here."
   ]
  },
  {
   "cell_type": "code",
   "execution_count": 2,
   "id": "cf836732",
   "metadata": {
    "id": "cf836732"
   },
   "outputs": [],
   "source": [
    "import sympy as sp\n",
    "import math\n",
    "from sympy.plotting import (plot,plot_parametric)\n",
    "import matplotlib.pyplot as plt\n",
    "import numpy as np"
   ]
  },
  {
   "cell_type": "markdown",
   "id": "3169990f",
   "metadata": {
    "id": "3169990f"
   },
   "source": [
    "### Question 1"
   ]
  },
  {
   "cell_type": "markdown",
   "id": "f0561a86",
   "metadata": {
    "id": "f0561a86"
   },
   "source": [
    "#### 1a"
   ]
  },
  {
   "cell_type": "code",
   "execution_count": 133,
   "id": "cbfab3f6",
   "metadata": {
    "id": "cbfab3f6"
   },
   "outputs": [],
   "source": [
    "matplotlib inline"
   ]
  },
  {
   "cell_type": "code",
   "execution_count": 104,
   "id": "9b9c9c38",
   "metadata": {},
   "outputs": [
    {
     "data": {
      "image/png": "[encoded data removed]",
      "text/plain": [
       "<Figure size 640x480 with 1 Axes>"
      ]
     },
     "metadata": {},
     "output_type": "display_data"
    }
   ],
   "source": [
    "n = sp.symbols('n', real = True, positive = True)\n",
    "serie = ((-1)**n) * (n**3 / (sp.E**(4*n-2)))\n",
    "# display(serie)\n",
    "\n",
    "N = 100\n",
    "serie_values = [serie.subs(n,i).evalf() for i in range(1, N+1)]\n",
    "\n",
    "#partial_sum = np.cumsum(serie_values)\n",
    "error_bound = np.abs(serie_values)\n",
    "\n",
    "plt.plot(range(1, N+1), error_bound, label='Upper bound of error')\n",
    "plt.axhline(0.00005, color='r', linestyle='--', label='y = 0.00005')\n",
    "plt.xlabel('Number of terms')\n",
    "plt.ylabel('Error')\n",
    "plt.legend()\n",
    "plt.show()\n"
   ]
  },
  {
   "cell_type": "code",
   "execution_count": 132,
   "id": "a2801c67",
   "metadata": {
    "id": "a2801c67"
   },
   "outputs": [
    {
     "name": "stdout",
     "output_type": "stream",
     "text": [
      "3.01918038656201\n"
     ]
    }
   ],
   "source": [
    "N = sp.symbols('N', real=True, positive = True)\n",
    "an = ((-1)**n) * (n**3 / (sp.E**(4*n-2)))\n",
    "Interror = sp.Abs(an).subs(n,N+1)\n",
    "\n",
    "error = Interror - 0.00005\n",
    "Nmin = sp.solve(error,N)\n",
    "print(Nmin[0])\n",
    "\n"
   ]
  },
  {
   "cell_type": "markdown",
   "id": "efdd616f",
   "metadata": {
    "id": "efdd616f"
   },
   "source": [
    "#### 1c"
   ]
  },
  {
   "cell_type": "code",
   "execution_count": 119,
   "id": "898de08d",
   "metadata": {
    "id": "898de08d"
   },
   "outputs": [
    {
     "name": "stdout",
     "output_type": "stream",
     "text": [
      "0.156444316591553\n"
     ]
    }
   ],
   "source": [
    "def term(n):\n",
    "    return ((-1)**n) * (n**3 / (sp.E**(4*n-2)))\n",
    "N = 1\n",
    "sum_serie = term(0)\n",
    "error = abs(term(N))\n",
    "\n",
    "while error >= 0.00005:\n",
    "    sum_serie += abs(serie.subs(n,N))\n",
    "    N += 1\n",
    "    error = abs(term(N))\n",
    "\n",
    "print(sum_serie.evalf())"
   ]
  },
  {
   "cell_type": "markdown",
   "id": "8b00f000",
   "metadata": {
    "id": "8b00f000"
   },
   "source": [
    "### Question 2 "
   ]
  },
  {
   "cell_type": "markdown",
   "id": "ccffd0d0",
   "metadata": {
    "id": "ccffd0d0"
   },
   "source": [
    "#### 2a"
   ]
  },
  {
   "cell_type": "code",
   "execution_count": 4,
   "id": "4618200f",
   "metadata": {
    "id": "4618200f"
   },
   "outputs": [
    {
     "name": "stdout",
     "output_type": "stream",
     "text": [
      "s0 = 1.00000000000000\n",
      "s1 = 1000.00000000000\n",
      "s2 = 500000.000000000\n",
      "s3 = 166666666.666667\n",
      "s4 = 41666666666.6667\n",
      "s5 = 8333333333333.33\n",
      "s6 = 1.38888888888889E+15\n",
      "s7 = 1.98412698412698E+17\n",
      "s8 = 2.48015873015873E+19\n",
      "s9 = 2.75573192239859E+21\n",
      "s10 = 2.75573192239859E+23\n",
      "s11 = 2.50521083854417E+25\n",
      "Based on the results obtained the series diverges\n"
     ]
    }
   ],
   "source": [
    "n = sp.symbols('n', real = True, positive = True)\n",
    "serie2 = ((1000)**n)/ sp.factorial(n)\n",
    "\n",
    "for i in range(0,12):\n",
    "    print(f's{i} = {sp.Abs(serie2).subs(n,i).evalf()}')\n",
    "print(\"Based on the results obtained the series diverges\")\n"
   ]
  },
  {
   "cell_type": "markdown",
   "id": "baa2be1a",
   "metadata": {
    "id": "baa2be1a"
   },
   "source": [
    "#### 2b"
   ]
  },
  {
   "cell_type": "code",
   "execution_count": 17,
   "id": "92832935",
   "metadata": {
    "id": "92832935"
   },
   "outputs": [
    {
     "name": "stdout",
     "output_type": "stream",
     "text": [
      "The Ratio test of the function is: \n"
     ]
    },
    {
     "data": {
      "text/latex": [
       "$\\displaystyle \\frac{1000}{n + 1}$"
      ],
      "text/plain": [
       "1000/(n + 1)"
      ]
     },
     "metadata": {},
     "output_type": "display_data"
    },
    {
     "name": "stdout",
     "output_type": "stream",
     "text": [
      "The limit is: \n",
      "0\n"
     ]
    }
   ],
   "source": [
    "N = sp.symbols('N', real = True, positive = True) \n",
    "an = serie2\n",
    "an_1 = serie2.subs(n, n+1)\n",
    "\n",
    "ratio = abs(an_1 / an)\n",
    "print('The Ratio test of the function is: ')\n",
    "display(ratio.simplify())\n",
    "\n",
    "#limit \n",
    "ratio_limit = sp.limit(ratio.simplify(),n,sp.oo)\n",
    "print('The limit is: ')\n",
    "print(ratio_limit)\n"
   ]
  },
  {
   "cell_type": "markdown",
   "id": "3dcc5f6d",
   "metadata": {
    "id": "3dcc5f6d"
   },
   "source": [
    "#### 2c"
   ]
  },
  {
   "cell_type": "code",
   "execution_count": 19,
   "id": "67d0a563",
   "metadata": {
    "id": "67d0a563"
   },
   "outputs": [
    {
     "name": "stdout",
     "output_type": "stream",
     "text": [
      "Based on the result obtained from part b, we can conclude the serie Converges\n"
     ]
    }
   ],
   "source": [
    "print('Based on the result obtained from part b, we can conclude the serie Converges')"
   ]
  },
  {
   "cell_type": "markdown",
   "id": "7e20a1d3",
   "metadata": {
    "id": "7e20a1d3"
   },
   "source": [
    "### Question 3"
   ]
  },
  {
   "cell_type": "markdown",
   "id": "f695ae23",
   "metadata": {
    "id": "f695ae23"
   },
   "source": [
    "#### 3a"
   ]
  },
  {
   "cell_type": "code",
   "execution_count": 53,
   "id": "41756879",
   "metadata": {
    "id": "41756879"
   },
   "outputs": [
    {
     "data": {
      "text/latex": [
       "$\\displaystyle \\frac{\\left(-1\\right)^{n} x^{6 n + 5}}{2 n + 1}$"
      ],
      "text/plain": [
       "(-1)**n*x**(6*n + 5)/(2*n + 1)"
      ]
     },
     "metadata": {},
     "output_type": "display_data"
    },
    {
     "name": "stdout",
     "output_type": "stream",
     "text": [
      "The Ratio test set-up:\n"
     ]
    },
    {
     "data": {
      "text/latex": [
       "$\\displaystyle x^{6} \\left|{\\frac{2 n + 1}{2 n + 3}}\\right|$"
      ],
      "text/plain": [
       "x**6*Abs((2*n + 1)/(2*n + 3))"
      ]
     },
     "metadata": {},
     "output_type": "display_data"
    },
    {
     "name": "stdout",
     "output_type": "stream",
     "text": [
      "The limit of the series:\n"
     ]
    },
    {
     "data": {
      "text/latex": [
       "$\\displaystyle x^{6}$"
      ],
      "text/plain": [
       "x**6"
      ]
     },
     "metadata": {},
     "output_type": "display_data"
    }
   ],
   "source": [
    "x = sp.symbols('x', real= True)\n",
    "an = ((-1)**n) * (x**(6*n+5))/(2*n+1)\n",
    "an_1 = an.subs(n,n+1)\n",
    "display(an)\n",
    "\n",
    "print('The Ratio test set-up:')\n",
    "ratio = abs(an_1/an).simplify()\n",
    "display(ratio)\n",
    "\n",
    "print('The limit of the series:')\n",
    "ratio = ratio.subs(x,1) #ratio but factored out the x\n",
    "ratio_limit = sp.limit(ratio.simplify(),n,sp.oo)\n",
    "display(ratio_limit)\n"
   ]
  },
  {
   "cell_type": "markdown",
   "id": "35d20561",
   "metadata": {
    "id": "35d20561"
   },
   "source": [
    "#### 3b"
   ]
  },
  {
   "cell_type": "code",
   "execution_count": 57,
   "id": "21ea705e",
   "metadata": {
    "id": "21ea705e"
   },
   "outputs": [
    {
     "name": "stdout",
     "output_type": "stream",
     "text": [
      "The Interval of Convergence is:\n"
     ]
    },
    {
     "data": {
      "text/latex": [
       "$\\displaystyle -1 \\leq x \\wedge x \\leq 1$"
      ],
      "text/plain": [
       "(-1 <= x) & (x <= 1)"
      ]
     },
     "metadata": {},
     "output_type": "display_data"
    }
   ],
   "source": [
    "ratio = abs(an_1/an).simplify()\n",
    "ratio_limit = sp.limit(ratio.simplify(),n,sp.oo)\n",
    "interval_c = sp.reduce_inequalities(ratio_limit.factor() <= 1)\n",
    "print('The Interval of Convergence is:')\n",
    "display(interval_c)"
   ]
  },
  {
   "cell_type": "markdown",
   "id": "9e7d2cbd",
   "metadata": {
    "id": "9e7d2cbd"
   },
   "source": [
    "#### 3c"
   ]
  },
  {
   "cell_type": "code",
   "execution_count": 62,
   "id": "de024572",
   "metadata": {
    "id": "de024572"
   },
   "outputs": [
    {
     "data": {
      "text/latex": [
       "$\\displaystyle - \\frac{x^{11}}{3} + x^{5}$"
      ],
      "text/plain": [
       "-x**11/3 + x**5"
      ]
     },
     "metadata": {},
     "output_type": "display_data"
    },
    {
     "data": {
      "text/latex": [
       "$\\displaystyle - \\frac{x^{23}}{7} + \\frac{x^{17}}{5} - \\frac{x^{11}}{3}$"
      ],
      "text/plain": [
       "-x**23/7 + x**17/5 - x**11/3"
      ]
     },
     "metadata": {},
     "output_type": "display_data"
    },
    {
     "data": {
      "text/latex": [
       "$\\displaystyle - \\frac{x^{35}}{11} + \\frac{x^{29}}{9} - \\frac{x^{23}}{7} + \\frac{x^{17}}{5} - \\frac{x^{11}}{3}$"
      ],
      "text/plain": [
       "-x**35/11 + x**29/9 - x**23/7 + x**17/5 - x**11/3"
      ]
     },
     "metadata": {},
     "output_type": "display_data"
    }
   ],
   "source": [
    "S1 = sp.summation(an,[n,0,1])\n",
    "S3 = sp.summation(an,[n,1,3])\n",
    "S5 = sp.summation(an,[n,1,5])\n",
    "\n",
    "display(S1,S3,S5)\n"
   ]
  },
  {
   "cell_type": "markdown",
   "id": "13a8c083",
   "metadata": {
    "id": "13a8c083"
   },
   "source": [
    "#### 3d"
   ]
  },
  {
   "cell_type": "code",
   "execution_count": 66,
   "id": "519d6551",
   "metadata": {},
   "outputs": [],
   "source": [
    "matplotlib inline"
   ]
  },
  {
   "cell_type": "code",
   "execution_count": 89,
   "id": "d5d710b3",
   "metadata": {
    "id": "d5d710b3"
   },
   "outputs": [
    {
     "data": {
      "image/png": "[encoded data removed]",
      "text/plain": [
       "<Figure size 640x480 with 1 Axes>"
      ]
     },
     "metadata": {},
     "output_type": "display_data"
    }
   ],
   "source": [
    "f_x = (x**2) * sp.atan(x**3)\n",
    "#display(f_x)\n",
    "fplot  = plot(f_x,(x,-sp.pi, sp.pi), ylim = [-5, 5], line_color = 'purple', show = False)\n",
    "S1plot = plot(S1,(x,-sp.pi, sp.pi), ylim = [-5, 5], line_color = 'red',show = False)\n",
    "S3plot = plot(S3,(x,-sp.pi, sp.pi), ylim = [-5, 5], line_color = 'green',show = False)\n",
    "S5plot = plot(S5,(x,-sp.pi, sp.pi), ylim = [-5, 5], line_color = 'orange',show = False)\n",
    "fplot.extend(S1plot)\n",
    "fplot.extend(S3plot)\n",
    "fplot.extend(S5plot)\n",
    "fplot.show()\n",
    "\n"
   ]
  }
 ],
 "metadata": {
  "colab": {
   "provenance": []
  },
  "kernelspec": {
   "display_name": "Python 3 (ipykernel)",
   "language": "python",
   "name": "python3"
  },
  "language_info": {
   "codemirror_mode": {
    "name": "ipython",
    "version": 3
   },
   "file_extension": ".py",
   "mimetype": "text/x-python",
   "name": "python",
   "nbconvert_exporter": "python",
   "pygments_lexer": "ipython3",
   "version": "3.10.12"
  }
 },
 "nbformat": 4,
 "nbformat_minor": 5
}
