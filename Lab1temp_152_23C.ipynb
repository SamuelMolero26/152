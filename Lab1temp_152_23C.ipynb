{
 "cells": [
  {
   "cell_type": "markdown",
   "id": "20c00fa5",
   "metadata": {},
   "source": [
    "## MATH 152 Lab 1"
   ]
  },
  {
   "cell_type": "markdown",
   "id": "7c243ef1",
   "metadata": {},
   "source": [
    "Samuel Molero"
   ]
  },
  {
   "cell_type": "code",
   "execution_count": 4,
   "id": "cf836732",
   "metadata": {},
   "outputs": [],
   "source": [
    "from sympy import *\n",
    "from sympy.plotting import (plot,plot_parametric)"
   ]
  },
  {
   "cell_type": "markdown",
   "id": "a0cd9e48",
   "metadata": {},
   "source": [
    "Instructions: Complete the lab assignment in your assigned groups. Unless stated otherwise, your answers should be obtained using Python code.\n",
    "\n",
    "Do not modify the cell above, as it contains all the packages you will need. It is highly recommended to not use any additional packages.\n",
    "\n",
    "NOTE: If you took MATH 151 last semester, notice that the import statement for SymPy is different- for each SymPy command you use, you have to preface it with \"sp.\" For example, \"symbols('x')\" becomes \"sp.symbols('x')\". **Except for plot and plot_parametric**- you don't need to type \"sp.\" for those."
   ]
  },
  {
   "cell_type": "markdown",
   "id": "3169990f",
   "metadata": {},
   "source": [
    "### Question 1"
   ]
  },
  {
   "cell_type": "markdown",
   "id": "f0561a86",
   "metadata": {},
   "source": [
    "#### 1a"
   ]
  },
  {
   "cell_type": "code",
   "execution_count": 8,
   "id": "cbfab3f6",
   "metadata": {},
   "outputs": [
    {
     "name": "stdout",
     "output_type": "stream",
     "text": [
      "A(x):\n"
     ]
    },
    {
     "data": {
      "text/latex": [
       "$\\displaystyle - 2 x^{2} + 100 x$"
      ],
      "text/plain": [
       "-2*x**2 + 100*x"
      ]
     },
     "metadata": {},
     "output_type": "display_data"
    }
   ],
   "source": [
    "#start code here\n",
    "x, y  = symbols('x y', real = True)\n",
    "formula_1 = 100 - 2*x\n",
    "A_x = x*y\n",
    "A_x= A_x.subs(y,formula_1)\n",
    "print('A(x):')\n",
    "display(A_x.expand())\n"
   ]
  },
  {
   "cell_type": "markdown",
   "id": "efdd616f",
   "metadata": {},
   "source": [
    "#### 1b"
   ]
  },
  {
   "cell_type": "code",
   "execution_count": 9,
   "id": "6fd5ac31",
   "metadata": {},
   "outputs": [
    {
     "name": "stdout",
     "output_type": "stream",
     "text": [
      "When the sides perpendicular are 15 yards\n",
      "Area = 1050 Yards\n"
     ]
    }
   ],
   "source": [
    "#start code here\n",
    "print(\"When the sides perpendicular are 15 yards\")\n",
    "A_x = A_x.subs(x,15)\n",
    "print(\"Area =\",A_x, \"Yards\")"
   ]
  },
  {
   "cell_type": "markdown",
   "id": "6889b8e7",
   "metadata": {},
   "source": [
    "#### 1c"
   ]
  },
  {
   "cell_type": "code",
   "execution_count": 22,
   "id": "d20a7a8e",
   "metadata": {},
   "outputs": [
    {
     "data": {
      "text/latex": [
       "$\\displaystyle - 2 x^{2} + 100 x$"
      ],
      "text/plain": [
       "-2*x**2 + 100*x"
      ]
     },
     "metadata": {},
     "output_type": "display_data"
    },
    {
     "name": "stdout",
     "output_type": "stream",
     "text": [
      "the sides need to be either [20, 30] yards each\n"
     ]
    }
   ],
   "source": [
    "#start code here\n",
    "formula_1 = 100 - 2*x\n",
    "A_x = x*y\n",
    "A_x = A_x.subs(y,formula_1).expand()\n",
    "display(A_x.expand())\n",
    "A_x -= 1200\n",
    "print(\"the sides need to be either\", solve(A_x.expand(),x), \"yards each\")"
   ]
  },
  {
   "cell_type": "markdown",
   "id": "3a7e1713",
   "metadata": {},
   "source": [
    "#### 1d"
   ]
  },
  {
   "cell_type": "code",
   "execution_count": 14,
   "id": "8b00ae4b",
   "metadata": {},
   "outputs": [
    {
     "data": {
      "text/latex": [
       "$\\displaystyle - 2 x^{2} + 100 x$"
      ],
      "text/plain": [
       "-2*x**2 + 100*x"
      ]
     },
     "metadata": {},
     "output_type": "display_data"
    },
    {
     "data": {
      "image/png": "[encoded data removed]",
      "text/plain": [
       "<Figure size 640x480 with 1 Axes>"
      ]
     },
     "metadata": {},
     "output_type": "display_data"
    }
   ],
   "source": [
    "#start code here\n",
    "formula_1 = 100 - 2*x\n",
    "A_x = x*y\n",
    "A_x1 = A_x.subs(y,formula_1).expand()\n",
    "display(A_x1)\n",
    "x1 = plot(A_x1, (x,0,50))"
   ]
  },
  {
   "cell_type": "markdown",
   "id": "588fed78",
   "metadata": {},
   "source": [
    "#### 1e"
   ]
  },
  {
   "cell_type": "code",
   "execution_count": 19,
   "id": "6063c3d4",
   "metadata": {},
   "outputs": [
    {
     "name": "stdout",
     "output_type": "stream",
     "text": [
      "The maxmize x value is: 25 giving us A: 1250\n"
     ]
    }
   ],
   "source": [
    "#start code here\n",
    "\n",
    "values_x = solve(diff(A_x1),x)\n",
    "print(\"The maxmize x value is:\", *values_x, \"giving us A:\", A_x1.subs(x,values_x[0]))\n"
   ]
  },
  {
   "cell_type": "markdown",
   "id": "8b00f000",
   "metadata": {},
   "source": [
    "### Question 2"
   ]
  },
  {
   "cell_type": "markdown",
   "id": "bacdc1db",
   "metadata": {},
   "source": [
    "#### 2a"
   ]
  },
  {
   "cell_type": "code",
   "execution_count": 28,
   "id": "be2f2c71",
   "metadata": {},
   "outputs": [
    {
     "data": {
      "text/latex": [
       "$\\displaystyle x^{5} \\sqrt{x^{3} + 16}$"
      ],
      "text/plain": [
       "x**5*sqrt(x**3 + 16)"
      ]
     },
     "metadata": {},
     "output_type": "display_data"
    },
    {
     "name": "stdout",
     "output_type": "stream",
     "text": [
      "u:\n"
     ]
    },
    {
     "data": {
      "text/latex": [
       "$\\displaystyle x^{3} + 16$"
      ],
      "text/plain": [
       "x**3 + 16"
      ]
     },
     "metadata": {},
     "output_type": "display_data"
    },
    {
     "name": "stdout",
     "output_type": "stream",
     "text": [
      "du:\n"
     ]
    },
    {
     "data": {
      "text/latex": [
       "$\\displaystyle 3 x^{2}$"
      ],
      "text/plain": [
       "3*x**2"
      ]
     },
     "metadata": {},
     "output_type": "display_data"
    }
   ],
   "source": [
    "#start code here\n",
    "x = symbols('x', positive = True, Real = True)\n",
    "f_x = (x**5)*((x**3 + 16)**Rational(1,2))\n",
    "display(f_x)\n",
    "#display(f_x)\n",
    "ux = x**3+16\n",
    "dux = diff(ux)\n",
    "print(\"u:\")\n",
    "display(ux)\n",
    "print(\"du:\")\n",
    "display(dux)"
   ]
  },
  {
   "cell_type": "markdown",
   "id": "23bc68a6",
   "metadata": {},
   "source": [
    "#### 2b"
   ]
  },
  {
   "cell_type": "code",
   "execution_count": 30,
   "id": "357bbf0f",
   "metadata": {},
   "outputs": [
    {
     "data": {
      "text/latex": [
       "$\\displaystyle C + \\frac{2 \\left(x^{3} + 16\\right)^{\\frac{5}{2}}}{15} - \\frac{32 \\left(x^{3} + 16\\right)^{\\frac{3}{2}}}{9}$"
      ],
      "text/plain": [
       "C + 2*(x**3 + 16)**(5/2)/15 - 32*(x**3 + 16)**(3/2)/9"
      ]
     },
     "metadata": {},
     "output_type": "display_data"
    }
   ],
   "source": [
    "#start code here\n",
    "u, du, c = symbols('u  du C', real = True, positive = True)\n",
    "new_f = u*sqrt(u+16)\n",
    "new_f_right = (u * sqrt(u)).simplify()\n",
    "new_f_left = (16*sqrt(u))\n",
    "int_x = integrate(new_f_right)\n",
    "#display(int_x)\n",
    "int_x2 = integrate(new_f_left)\n",
    "#display(int_x2)\n",
    "\n",
    "new_f = Rational(1,3)*((int_x) - int_x2)\n",
    "new_f = new_f.subs(u,ux)\n",
    "display((new_f)+c)"
   ]
  },
  {
   "cell_type": "markdown",
   "id": "d4c7adb9",
   "metadata": {},
   "source": [
    "#### 2c"
   ]
  },
  {
   "cell_type": "code",
   "execution_count": 32,
   "id": "e20a3063",
   "metadata": {},
   "outputs": [
    {
     "name": "stdout",
     "output_type": "stream",
     "text": [
      "f(x) integrated: \n"
     ]
    },
    {
     "data": {
      "text/latex": [
       "$\\displaystyle C + \\frac{2 \\sqrt{x^{3} + 16} \\left(3 x^{6} + 16 x^{3} - 512\\right)}{45}$"
      ],
      "text/plain": [
       "C + 2*sqrt(x**3 + 16)*(3*x**6 + 16*x**3 - 512)/45"
      ]
     },
     "metadata": {},
     "output_type": "display_data"
    }
   ],
   "source": [
    "#start code here\n",
    "f_integrated = integrate(f_x).simplify()\n",
    "print(\"f(x) integrated: \")\n",
    "display(f_integrated + c)"
   ]
  },
  {
   "cell_type": "markdown",
   "id": "1ef4d714",
   "metadata": {},
   "source": [
    "#### 2d"
   ]
  },
  {
   "cell_type": "code",
   "execution_count": 33,
   "id": "4e7b3b96",
   "metadata": {},
   "outputs": [
    {
     "data": {
      "text/latex": [
       "$\\displaystyle - \\frac{986 \\sqrt{17}}{45} + \\frac{70 \\sqrt{15}}{3}$"
      ],
      "text/plain": [
       "-986*sqrt(17)/45 + 70*sqrt(15)/3"
      ]
     },
     "metadata": {},
     "output_type": "display_data"
    }
   ],
   "source": [
    "#start code here\n",
    "left = new_f.subs(x,-1)\n",
    "right = new_f.subs(x,1)\n",
    "final = right - left\n",
    "display(final)\n",
    "\n"
   ]
  },
  {
   "cell_type": "markdown",
   "id": "a561777e",
   "metadata": {},
   "source": [
    "#### 2e"
   ]
  },
  {
   "cell_type": "code",
   "execution_count": 34,
   "id": "f83d69df",
   "metadata": {},
   "outputs": [
    {
     "data": {
      "text/latex": [
       "$\\displaystyle \\int\\limits_{-1}^{1} x^{5} \\sqrt{x^{3} + 16}\\, dx$"
      ],
      "text/plain": [
       "Integral(x**5*sqrt(x**3 + 16), (x, -1, 1))"
      ]
     },
     "metadata": {},
     "output_type": "display_data"
    },
    {
     "data": {
      "text/latex": [
       "$\\displaystyle - \\frac{986 \\sqrt{17}}{45} + \\frac{70 \\sqrt{15}}{3}$"
      ],
      "text/plain": [
       "-986*sqrt(17)/45 + 70*sqrt(15)/3"
      ]
     },
     "execution_count": 34,
     "metadata": {},
     "output_type": "execute_result"
    }
   ],
   "source": [
    "#start code here\n",
    "display(Integral(f_x,(x,-1,1)))\n",
    "integrate(f_x,(x,-1,1))\n"
   ]
  }
 ],
 "metadata": {
  "kernelspec": {
   "display_name": "Python 3 (ipykernel)",
   "language": "python",
   "name": "python3"
  },
  "language_info": {
   "codemirror_mode": {
    "name": "ipython",
    "version": 3
   },
   "file_extension": ".py",
   "mimetype": "text/x-python",
   "name": "python",
   "nbconvert_exporter": "python",
   "pygments_lexer": "ipython3",
   "version": "3.10.12"
  }
 },
 "nbformat": 4,
 "nbformat_minor": 5
}
